{
  "nbformat": 4,
  "nbformat_minor": 0,
  "metadata": {
    "colab": {
      "name": "rnn_3.ipynb",
      "provenance": []
    },
    "kernelspec": {
      "name": "python3",
      "display_name": "Python 3"
    },
    "accelerator": "GPU"
  },
  "cells": [
    {
      "cell_type": "code",
      "metadata": {
        "id": "RX70_vFFjogr",
        "colab_type": "code",
        "colab": {}
      },
      "source": [
        "import numpy as np\n",
        "import torch\n",
        "import torch.nn as nn\n",
        "import torch.nn.functional as F\n",
        "from torch.utils.data import Dataset\n",
        "from collections import Counter\n",
        "import pickle as pkl\n",
        "import random\n",
        "import pdb\n",
        "random.seed(134)\n",
        "import pandas as pd\n",
        "import matplotlib.pyplot as plt\n",
        "\n",
        "\n",
        "PAD_IDX = 0\n",
        "UNK_IDX = 1\n",
        "BATCH_SIZE = 32"
      ],
      "execution_count": 0,
      "outputs": []
    },
    {
      "cell_type": "code",
      "metadata": {
        "id": "mdGmdeq6opSM",
        "colab_type": "code",
        "colab": {}
      },
      "source": [
        "import gensim"
      ],
      "execution_count": 0,
      "outputs": []
    },
    {
      "cell_type": "code",
      "metadata": {
        "id": "Tv7yjdKkmFS4",
        "colab_type": "code",
        "outputId": "9674f7e0-ecc8-4f60-c1a2-5d9429644f62",
        "colab": {
          "base_uri": "https://localhost:8080/",
          "height": 208
        }
      },
      "source": [
        "\n",
        "\n",
        "!wget https://nlp.stanford.edu/projects/snli/snli_1.0.zip\n",
        "\n",
        "!unzip -uq snli_1.0.zip\n"
      ],
      "execution_count": 3,
      "outputs": [
        {
          "output_type": "stream",
          "text": [
            "--2020-05-15 10:30:49--  https://nlp.stanford.edu/projects/snli/snli_1.0.zip\n",
            "Resolving nlp.stanford.edu (nlp.stanford.edu)... 171.64.67.140\n",
            "Connecting to nlp.stanford.edu (nlp.stanford.edu)|171.64.67.140|:443... connected.\n",
            "HTTP request sent, awaiting response... 200 OK\n",
            "Length: 94550081 (90M) [application/zip]\n",
            "Saving to: ‘snli_1.0.zip’\n",
            "\n",
            "snli_1.0.zip        100%[===================>]  90.17M  20.7MB/s    in 7.5s    \n",
            "\n",
            "2020-05-15 10:30:57 (12.1 MB/s) - ‘snli_1.0.zip’ saved [94550081/94550081]\n",
            "\n"
          ],
          "name": "stdout"
        }
      ]
    },
    {
      "cell_type": "code",
      "metadata": {
        "id": "iGv5qH7xlahc",
        "colab_type": "code",
        "colab": {}
      },
      "source": [
        "def count_parameters(model):\n",
        "    return sum(p.numel() for p in model.parameters() if p.requires_grad)"
      ],
      "execution_count": 0,
      "outputs": []
    },
    {
      "cell_type": "code",
      "metadata": {
        "id": "ryAtXGDFlrbw",
        "colab_type": "code",
        "colab": {}
      },
      "source": [
        "\n",
        "\n",
        "from collections import Counter\n",
        "\n",
        "# max_vocab_size = 25000\n",
        "PAD_IDX = 0\n",
        "UNK_IDX = 1\n",
        "\n",
        "def build_vocab(all_tokens):\n",
        "    token_counter = Counter(all_tokens)\n",
        "#     print(token_counter)\n",
        "    vocab = token_counter.keys()\n",
        "    id2token = list(vocab)\n",
        "    token2id = dict(zip(vocab, range(2,2+len(vocab)))) \n",
        "    id2token = ['<pad>', '<unk>'] + id2token\n",
        "    token2id['<pad>'] = PAD_IDX \n",
        "    token2id['<unk>'] = UNK_IDX\n",
        "    return token2id, id2token\n",
        "\n",
        "def read_data(fine_name):\n",
        "    df = pd.read_csv(fine_name,sep='\\t')\n",
        "    return df\n",
        "\n"
      ],
      "execution_count": 0,
      "outputs": []
    },
    {
      "cell_type": "code",
      "metadata": {
        "id": "zvIewsbylt1o",
        "colab_type": "code",
        "colab": {}
      },
      "source": [
        "train_datapath = \"./snli_1.0/snli_1.0_train.jsonl\"\n",
        "valid_datapath = \"./snli_1.0/snli_1.0_dev.jsonl\"\n",
        "test_datapath = \"./snli_1.0/snli_1.0_test.jsonl\"\n",
        "\n",
        "df_train = pd.read_json(train_datapath, lines = \"true\")\n",
        "df_val = pd.read_json(valid_datapath, lines = \"true\")\n",
        "df_test = pd.read_json(test_datapath, lines = \"true\")\n",
        "\n"
      ],
      "execution_count": 0,
      "outputs": []
    },
    {
      "cell_type": "code",
      "metadata": {
        "id": "QjE5sQIKl7mv",
        "colab_type": "code",
        "colab": {}
      },
      "source": [
        "\n",
        "\n",
        "\n",
        "def tokenize(df):\n",
        "    df['sentence1'] = df['sentence1'].apply(lambda x: [a.lower() for a in x.split(' ')])\n",
        "    df['sentence2'] = df['sentence2'].apply(lambda x : [a.lower() for a in x.split(' ')])\n",
        "    \n",
        "    return df\n",
        "\n",
        "\n",
        "\n"
      ],
      "execution_count": 0,
      "outputs": []
    },
    {
      "cell_type": "code",
      "metadata": {
        "id": "ZyWRJiXAm2Vl",
        "colab_type": "code",
        "colab": {}
      },
      "source": [
        "df_train = tokenize(df_train)\n",
        "df_val = tokenize(df_val)"
      ],
      "execution_count": 0,
      "outputs": []
    },
    {
      "cell_type": "code",
      "metadata": {
        "id": "NzNEUkNmpFtN",
        "colab_type": "code",
        "outputId": "4ec82d94-9719-4fe2-a8c3-2e924213f988",
        "colab": {
          "base_uri": "https://localhost:8080/",
          "height": 208
        }
      },
      "source": [
        "!wget https://dl.fbaipublicfiles.com/fasttext/vectors-english/wiki-news-300d-1M.vec.zip\n",
        "!unzip -uq wiki-news-300d-1M.vec.zip"
      ],
      "execution_count": 9,
      "outputs": [
        {
          "output_type": "stream",
          "text": [
            "--2020-05-15 10:31:58--  https://dl.fbaipublicfiles.com/fasttext/vectors-english/wiki-news-300d-1M.vec.zip\n",
            "Resolving dl.fbaipublicfiles.com (dl.fbaipublicfiles.com)... 104.22.74.142, 104.22.75.142, 2606:4700:10::6816:4b8e, ...\n",
            "Connecting to dl.fbaipublicfiles.com (dl.fbaipublicfiles.com)|104.22.74.142|:443... connected.\n",
            "HTTP request sent, awaiting response... 200 OK\n",
            "Length: 681808098 (650M) [application/zip]\n",
            "Saving to: ‘wiki-news-300d-1M.vec.zip’\n",
            "\n",
            "wiki-news-300d-1M.v 100%[===================>] 650.22M  11.8MB/s    in 57s     \n",
            "\n",
            "2020-05-15 10:32:56 (11.5 MB/s) - ‘wiki-news-300d-1M.vec.zip’ saved [681808098/681808098]\n",
            "\n"
          ],
          "name": "stdout"
        }
      ]
    },
    {
      "cell_type": "code",
      "metadata": {
        "id": "_p_UOOxsng54",
        "colab_type": "code",
        "colab": {}
      },
      "source": [
        "words_to_load = 100000\n",
        "\n",
        "import numpy as np\n",
        "\n",
        "with open('wiki-news-300d-1M.vec') as f:\n",
        "    loaded_embeddings = np.zeros((words_to_load+2, 300))\n",
        "    words = {}\n",
        "    idx2words = {}\n",
        "    ordered_words = ['<pad>','<unk>']\n",
        "    i = 2\n",
        "    for line in f:\n",
        "        if i-2 >= words_to_load: \n",
        "            break\n",
        "        s = line.split()\n",
        "        loaded_embeddings[i, :] = np.asarray(s[1:])\n",
        "        words[s[0]] = i\n",
        "        idx2words[i] = s[0]\n",
        "        ordered_words.append(s[0])\n",
        "        i = i+1\n"
      ],
      "execution_count": 0,
      "outputs": []
    },
    {
      "cell_type": "code",
      "metadata": {
        "id": "jfVt43R-nnXa",
        "colab_type": "code",
        "outputId": "4cabda08-776b-4eec-c45a-b55c0b980437",
        "colab": {
          "base_uri": "https://localhost:8080/",
          "height": 34
        }
      },
      "source": [
        "# max(words.values())"
      ],
      "execution_count": 11,
      "outputs": [
        {
          "output_type": "execute_result",
          "data": {
            "text/plain": [
              "100001"
            ]
          },
          "metadata": {
            "tags": []
          },
          "execution_count": 11
        }
      ]
    },
    {
      "cell_type": "code",
      "metadata": {
        "id": "YQrHk4E0qInF",
        "colab_type": "code",
        "colab": {}
      },
      "source": [
        "words['<pad>'] = 0\n",
        "words['<unk>'] = 1"
      ],
      "execution_count": 0,
      "outputs": []
    },
    {
      "cell_type": "code",
      "metadata": {
        "id": "UZMo9t7vqM08",
        "colab_type": "code",
        "colab": {}
      },
      "source": [
        "idx2words[0] = \"<pad>\"\n",
        "idx2words[1] = \"<unk>\""
      ],
      "execution_count": 0,
      "outputs": []
    },
    {
      "cell_type": "code",
      "metadata": {
        "id": "5Pc3tlU3qPE2",
        "colab_type": "code",
        "colab": {}
      },
      "source": [
        "# words\n",
        "def apply_idz(x):\n",
        "    temp = []\n",
        "    for a in x:\n",
        "        if a in ordered_words:\n",
        "            temp.append(words[a])\n",
        "        else:\n",
        "            temp.append(1)\n",
        "    return temp"
      ],
      "execution_count": 0,
      "outputs": []
    },
    {
      "cell_type": "code",
      "metadata": {
        "id": "Lud9yEXwqTx5",
        "colab_type": "code",
        "colab": {}
      },
      "source": [
        "def idize(df):\n",
        "    df['sentence1_idz'] = df[\"sentence1\"].apply(apply_idz)\n",
        "    df['sentence2_idz'] = df[\"sentence2\"].apply(apply_idz)\n",
        "    return df\n",
        "    "
      ],
      "execution_count": 0,
      "outputs": []
    },
    {
      "cell_type": "code",
      "metadata": {
        "id": "ZR67Zx1DxYre",
        "colab_type": "code",
        "colab": {}
      },
      "source": [
        "train_train = idize(df_train)"
      ],
      "execution_count": 0,
      "outputs": []
    },
    {
      "cell_type": "code",
      "metadata": {
        "id": "PMVrm4TnqWut",
        "colab_type": "code",
        "colab": {}
      },
      "source": [
        "\n",
        "val_val = idize(df_val)"
      ],
      "execution_count": 0,
      "outputs": []
    },
    {
      "cell_type": "code",
      "metadata": {
        "id": "6RMYtWJr6RPE",
        "colab_type": "code",
        "colab": {}
      },
      "source": [
        ""
      ],
      "execution_count": 0,
      "outputs": []
    },
    {
      "cell_type": "code",
      "metadata": {
        "id": "-dX9IGHiqbMY",
        "colab_type": "code",
        "outputId": "47b5d81c-1b12-418d-edf1-13e6f85ae27f",
        "colab": {
          "base_uri": "https://localhost:8080/",
          "height": 712
        }
      },
      "source": [
        "val_val.head()"
      ],
      "execution_count": 18,
      "outputs": [
        {
          "output_type": "execute_result",
          "data": {
            "text/html": [
              "<div>\n",
              "<style scoped>\n",
              "    .dataframe tbody tr th:only-of-type {\n",
              "        vertical-align: middle;\n",
              "    }\n",
              "\n",
              "    .dataframe tbody tr th {\n",
              "        vertical-align: top;\n",
              "    }\n",
              "\n",
              "    .dataframe thead th {\n",
              "        text-align: right;\n",
              "    }\n",
              "</style>\n",
              "<table border=\"1\" class=\"dataframe\">\n",
              "  <thead>\n",
              "    <tr style=\"text-align: right;\">\n",
              "      <th></th>\n",
              "      <th>annotator_labels</th>\n",
              "      <th>captionID</th>\n",
              "      <th>gold_label</th>\n",
              "      <th>pairID</th>\n",
              "      <th>sentence1</th>\n",
              "      <th>sentence1_binary_parse</th>\n",
              "      <th>sentence1_parse</th>\n",
              "      <th>sentence2</th>\n",
              "      <th>sentence2_binary_parse</th>\n",
              "      <th>sentence2_parse</th>\n",
              "      <th>sentence1_idz</th>\n",
              "      <th>sentence2_idz</th>\n",
              "    </tr>\n",
              "  </thead>\n",
              "  <tbody>\n",
              "    <tr>\n",
              "      <th>0</th>\n",
              "      <td>[neutral, entailment, neutral, neutral, neutral]</td>\n",
              "      <td>4705552913.jpg#2</td>\n",
              "      <td>neutral</td>\n",
              "      <td>4705552913.jpg#2r1n</td>\n",
              "      <td>[two, women, are, embracing, while, holding, t...</td>\n",
              "      <td>( ( Two women ) ( ( are ( embracing ( while ( ...</td>\n",
              "      <td>(ROOT (S (NP (CD Two) (NNS women)) (VP (VBP ar...</td>\n",
              "      <td>[the, sisters, are, hugging, goodbye, while, h...</td>\n",
              "      <td>( ( The sisters ) ( ( are ( ( hugging goodbye ...</td>\n",
              "      <td>(ROOT (S (NP (DT The) (NNS sisters)) (VP (VBP ...</td>\n",
              "      <td>[108, 272, 35, 13154, 132, 1671, 8, 324, 1]</td>\n",
              "      <td>[4, 6555, 35, 28644, 20026, 132, 1671, 8, 324,...</td>\n",
              "    </tr>\n",
              "    <tr>\n",
              "      <th>1</th>\n",
              "      <td>[entailment, entailment, entailment, entailmen...</td>\n",
              "      <td>4705552913.jpg#2</td>\n",
              "      <td>entailment</td>\n",
              "      <td>4705552913.jpg#2r1e</td>\n",
              "      <td>[two, women, are, embracing, while, holding, t...</td>\n",
              "      <td>( ( Two women ) ( ( are ( embracing ( while ( ...</td>\n",
              "      <td>(ROOT (S (NP (CD Two) (NNS women)) (VP (VBP ar...</td>\n",
              "      <td>[two, woman, are, holding, packages.]</td>\n",
              "      <td>( ( Two woman ) ( ( are ( holding packages ) )...</td>\n",
              "      <td>(ROOT (S (NP (CD Two) (NN woman)) (VP (VBP are...</td>\n",
              "      <td>[108, 272, 35, 13154, 132, 1671, 8, 324, 1]</td>\n",
              "      <td>[108, 995, 35, 1671, 1]</td>\n",
              "    </tr>\n",
              "    <tr>\n",
              "      <th>2</th>\n",
              "      <td>[contradiction, contradiction, contradiction, ...</td>\n",
              "      <td>4705552913.jpg#2</td>\n",
              "      <td>contradiction</td>\n",
              "      <td>4705552913.jpg#2r1c</td>\n",
              "      <td>[two, women, are, embracing, while, holding, t...</td>\n",
              "      <td>( ( Two women ) ( ( are ( embracing ( while ( ...</td>\n",
              "      <td>(ROOT (S (NP (CD Two) (NNS women)) (VP (VBP ar...</td>\n",
              "      <td>[the, men, are, fighting, outside, a, deli.]</td>\n",
              "      <td>( ( The men ) ( ( are ( fighting ( outside ( a...</td>\n",
              "      <td>(ROOT (S (NP (DT The) (NNS men)) (VP (VBP are)...</td>\n",
              "      <td>[108, 272, 35, 13154, 132, 1671, 8, 324, 1]</td>\n",
              "      <td>[4, 356, 35, 1613, 530, 10, 1]</td>\n",
              "    </tr>\n",
              "    <tr>\n",
              "      <th>3</th>\n",
              "      <td>[entailment, entailment, entailment, entailmen...</td>\n",
              "      <td>2407214681.jpg#0</td>\n",
              "      <td>entailment</td>\n",
              "      <td>2407214681.jpg#0r1e</td>\n",
              "      <td>[two, young, children, in, blue, jerseys,, one...</td>\n",
              "      <td>( ( ( Two ( young children ) ) ( in ( ( ( ( ( ...</td>\n",
              "      <td>(ROOT (S (NP (NP (CD Two) (JJ young) (NNS chil...</td>\n",
              "      <td>[two, kids, in, numbered, jerseys, wash, their...</td>\n",
              "      <td>( ( ( Two kids ) ( in ( numbered jerseys ) ) )...</td>\n",
              "      <td>(ROOT (S (NP (NP (CD Two) (NNS kids)) (PP (IN ...</td>\n",
              "      <td>[108, 803, 250, 9, 2032, 1, 47, 20, 4, 391, 52...</td>\n",
              "      <td>[108, 1316, 9, 8665, 26645, 10523, 48, 1]</td>\n",
              "    </tr>\n",
              "    <tr>\n",
              "      <th>4</th>\n",
              "      <td>[neutral, neutral, neutral, entailment, entail...</td>\n",
              "      <td>2407214681.jpg#0</td>\n",
              "      <td>neutral</td>\n",
              "      <td>2407214681.jpg#0r1n</td>\n",
              "      <td>[two, young, children, in, blue, jerseys,, one...</td>\n",
              "      <td>( ( ( Two ( young children ) ) ( in ( ( ( ( ( ...</td>\n",
              "      <td>(ROOT (S (NP (NP (CD Two) (JJ young) (NNS chil...</td>\n",
              "      <td>[two, kids, at, a, ballgame, wash, their, hands.]</td>\n",
              "      <td>( ( ( Two kids ) ( at ( a ballgame ) ) ) ( ( w...</td>\n",
              "      <td>(ROOT (S (NP (NP (CD Two) (NNS kids)) (PP (IN ...</td>\n",
              "      <td>[108, 803, 250, 9, 2032, 1, 47, 20, 4, 391, 52...</td>\n",
              "      <td>[108, 1316, 30, 10, 78076, 10523, 48, 1]</td>\n",
              "    </tr>\n",
              "  </tbody>\n",
              "</table>\n",
              "</div>"
            ],
            "text/plain": [
              "                                    annotator_labels  ...                                      sentence2_idz\n",
              "0   [neutral, entailment, neutral, neutral, neutral]  ...  [4, 6555, 35, 28644, 20026, 132, 1671, 8, 324,...\n",
              "1  [entailment, entailment, entailment, entailmen...  ...                            [108, 995, 35, 1671, 1]\n",
              "2  [contradiction, contradiction, contradiction, ...  ...                     [4, 356, 35, 1613, 530, 10, 1]\n",
              "3  [entailment, entailment, entailment, entailmen...  ...          [108, 1316, 9, 8665, 26645, 10523, 48, 1]\n",
              "4  [neutral, neutral, neutral, entailment, entail...  ...           [108, 1316, 30, 10, 78076, 10523, 48, 1]\n",
              "\n",
              "[5 rows x 12 columns]"
            ]
          },
          "metadata": {
            "tags": []
          },
          "execution_count": 18
        }
      ]
    },
    {
      "cell_type": "code",
      "metadata": {
        "id": "26kxpBd13EPU",
        "colab_type": "code",
        "colab": {}
      },
      "source": [
        ""
      ],
      "execution_count": 0,
      "outputs": []
    },
    {
      "cell_type": "code",
      "metadata": {
        "id": "6dzo1QvOxJyV",
        "colab_type": "code",
        "colab": {}
      },
      "source": [
        "unk_vec = np.random.normal(size=300)\n",
        "pad_vec = np.random.normal(size=300)"
      ],
      "execution_count": 0,
      "outputs": []
    },
    {
      "cell_type": "code",
      "metadata": {
        "id": "aMLQInw76Z14",
        "colab_type": "code",
        "outputId": "0132489a-8fb6-45c9-966c-eff7c2616303",
        "colab": {
          "base_uri": "https://localhost:8080/",
          "height": 34
        }
      },
      "source": [
        "# loaded_embeddings.shape"
      ],
      "execution_count": 20,
      "outputs": [
        {
          "output_type": "execute_result",
          "data": {
            "text/plain": [
              "(100002, 300)"
            ]
          },
          "metadata": {
            "tags": []
          },
          "execution_count": 20
        }
      ]
    },
    {
      "cell_type": "code",
      "metadata": {
        "id": "e-i58koH6ciS",
        "colab_type": "code",
        "colab": {}
      },
      "source": [
        "\n",
        "\n",
        "loaded_embeddings[0,:] = pad_vec\n",
        "# np.insert(loaded_embeddings,0,pad_vec,axis=0)\n",
        "loaded_embeddings[1,:] = unk_vec\n",
        "# np.insert(loaded_embeddings,1,unk_vec,axis=0)\n",
        "\n"
      ],
      "execution_count": 0,
      "outputs": []
    },
    {
      "cell_type": "code",
      "metadata": {
        "id": "-8lPnpiZ8RAU",
        "colab_type": "code",
        "outputId": "eb260fe1-daf5-4d41-967a-5743a0376257",
        "colab": {
          "base_uri": "https://localhost:8080/",
          "height": 293
        }
      },
      "source": [
        "val_val=val_val[['sentence1','sentence2','gold_label','sentence1_idz','sentence2_idz']]\n",
        "val_val=val_val.rename(columns={'gold_label':'label'})\n",
        "# val_val.head()"
      ],
      "execution_count": 22,
      "outputs": [
        {
          "output_type": "execute_result",
          "data": {
            "text/html": [
              "<div>\n",
              "<style scoped>\n",
              "    .dataframe tbody tr th:only-of-type {\n",
              "        vertical-align: middle;\n",
              "    }\n",
              "\n",
              "    .dataframe tbody tr th {\n",
              "        vertical-align: top;\n",
              "    }\n",
              "\n",
              "    .dataframe thead th {\n",
              "        text-align: right;\n",
              "    }\n",
              "</style>\n",
              "<table border=\"1\" class=\"dataframe\">\n",
              "  <thead>\n",
              "    <tr style=\"text-align: right;\">\n",
              "      <th></th>\n",
              "      <th>sentence1</th>\n",
              "      <th>sentence2</th>\n",
              "      <th>label</th>\n",
              "      <th>sentence1_idz</th>\n",
              "      <th>sentence2_idz</th>\n",
              "    </tr>\n",
              "  </thead>\n",
              "  <tbody>\n",
              "    <tr>\n",
              "      <th>0</th>\n",
              "      <td>[two, women, are, embracing, while, holding, t...</td>\n",
              "      <td>[the, sisters, are, hugging, goodbye, while, h...</td>\n",
              "      <td>neutral</td>\n",
              "      <td>[108, 272, 35, 13154, 132, 1671, 8, 324, 1]</td>\n",
              "      <td>[4, 6555, 35, 28644, 20026, 132, 1671, 8, 324,...</td>\n",
              "    </tr>\n",
              "    <tr>\n",
              "      <th>1</th>\n",
              "      <td>[two, women, are, embracing, while, holding, t...</td>\n",
              "      <td>[two, woman, are, holding, packages.]</td>\n",
              "      <td>entailment</td>\n",
              "      <td>[108, 272, 35, 13154, 132, 1671, 8, 324, 1]</td>\n",
              "      <td>[108, 995, 35, 1671, 1]</td>\n",
              "    </tr>\n",
              "    <tr>\n",
              "      <th>2</th>\n",
              "      <td>[two, women, are, embracing, while, holding, t...</td>\n",
              "      <td>[the, men, are, fighting, outside, a, deli.]</td>\n",
              "      <td>contradiction</td>\n",
              "      <td>[108, 272, 35, 13154, 132, 1671, 8, 324, 1]</td>\n",
              "      <td>[4, 356, 35, 1613, 530, 10, 1]</td>\n",
              "    </tr>\n",
              "    <tr>\n",
              "      <th>3</th>\n",
              "      <td>[two, young, children, in, blue, jerseys,, one...</td>\n",
              "      <td>[two, kids, in, numbered, jerseys, wash, their...</td>\n",
              "      <td>entailment</td>\n",
              "      <td>[108, 803, 250, 9, 2032, 1, 47, 20, 4, 391, 52...</td>\n",
              "      <td>[108, 1316, 9, 8665, 26645, 10523, 48, 1]</td>\n",
              "    </tr>\n",
              "    <tr>\n",
              "      <th>4</th>\n",
              "      <td>[two, young, children, in, blue, jerseys,, one...</td>\n",
              "      <td>[two, kids, at, a, ballgame, wash, their, hands.]</td>\n",
              "      <td>neutral</td>\n",
              "      <td>[108, 803, 250, 9, 2032, 1, 47, 20, 4, 391, 52...</td>\n",
              "      <td>[108, 1316, 30, 10, 78076, 10523, 48, 1]</td>\n",
              "    </tr>\n",
              "  </tbody>\n",
              "</table>\n",
              "</div>"
            ],
            "text/plain": [
              "                                           sentence1  ...                                      sentence2_idz\n",
              "0  [two, women, are, embracing, while, holding, t...  ...  [4, 6555, 35, 28644, 20026, 132, 1671, 8, 324,...\n",
              "1  [two, women, are, embracing, while, holding, t...  ...                            [108, 995, 35, 1671, 1]\n",
              "2  [two, women, are, embracing, while, holding, t...  ...                     [4, 356, 35, 1613, 530, 10, 1]\n",
              "3  [two, young, children, in, blue, jerseys,, one...  ...          [108, 1316, 9, 8665, 26645, 10523, 48, 1]\n",
              "4  [two, young, children, in, blue, jerseys,, one...  ...           [108, 1316, 30, 10, 78076, 10523, 48, 1]\n",
              "\n",
              "[5 rows x 5 columns]"
            ]
          },
          "metadata": {
            "tags": []
          },
          "execution_count": 22
        }
      ]
    },
    {
      "cell_type": "code",
      "metadata": {
        "id": "KKXsCX5Y6fh-",
        "colab_type": "code",
        "colab": {}
      },
      "source": [
        "\n",
        "train_train=train_train[['sentence1','sentence2','gold_label','sentence1_idz','sentence2_idz']]"
      ],
      "execution_count": 0,
      "outputs": []
    },
    {
      "cell_type": "code",
      "metadata": {
        "id": "iB98I6396iX0",
        "colab_type": "code",
        "outputId": "cf64c901-fc67-4dbf-87a2-27051ac500da",
        "colab": {
          "base_uri": "https://localhost:8080/",
          "height": 293
        }
      },
      "source": [
        "train_train=train_train.rename(columns={'gold_label':'label'})\n",
        "\n",
        "# train_train.head()"
      ],
      "execution_count": 24,
      "outputs": [
        {
          "output_type": "execute_result",
          "data": {
            "text/html": [
              "<div>\n",
              "<style scoped>\n",
              "    .dataframe tbody tr th:only-of-type {\n",
              "        vertical-align: middle;\n",
              "    }\n",
              "\n",
              "    .dataframe tbody tr th {\n",
              "        vertical-align: top;\n",
              "    }\n",
              "\n",
              "    .dataframe thead th {\n",
              "        text-align: right;\n",
              "    }\n",
              "</style>\n",
              "<table border=\"1\" class=\"dataframe\">\n",
              "  <thead>\n",
              "    <tr style=\"text-align: right;\">\n",
              "      <th></th>\n",
              "      <th>sentence1</th>\n",
              "      <th>sentence2</th>\n",
              "      <th>label</th>\n",
              "      <th>sentence1_idz</th>\n",
              "      <th>sentence2_idz</th>\n",
              "    </tr>\n",
              "  </thead>\n",
              "  <tbody>\n",
              "    <tr>\n",
              "      <th>0</th>\n",
              "      <td>[a, person, on, a, horse, jumps, over, a, brok...</td>\n",
              "      <td>[a, person, is, training, his, horse, for, a, ...</td>\n",
              "      <td>neutral</td>\n",
              "      <td>[10, 364, 18, 10, 2924, 13037, 95, 10, 2471, 2...</td>\n",
              "      <td>[10, 364, 16, 590, 45, 2924, 17, 10, 1]</td>\n",
              "    </tr>\n",
              "    <tr>\n",
              "      <th>1</th>\n",
              "      <td>[a, person, on, a, horse, jumps, over, a, brok...</td>\n",
              "      <td>[a, person, is, at, a, diner,, ordering, an, o...</td>\n",
              "      <td>contradiction</td>\n",
              "      <td>[10, 364, 18, 10, 2924, 13037, 95, 10, 2471, 2...</td>\n",
              "      <td>[10, 364, 16, 30, 10, 1, 6859, 51, 1]</td>\n",
              "    </tr>\n",
              "    <tr>\n",
              "      <th>2</th>\n",
              "      <td>[a, person, on, a, horse, jumps, over, a, brok...</td>\n",
              "      <td>[a, person, is, outdoors,, on, a, horse.]</td>\n",
              "      <td>entailment</td>\n",
              "      <td>[10, 364, 18, 10, 2924, 13037, 95, 10, 2471, 2...</td>\n",
              "      <td>[10, 364, 16, 1, 18, 10, 1]</td>\n",
              "    </tr>\n",
              "    <tr>\n",
              "      <th>3</th>\n",
              "      <td>[children, smiling, and, waving, at, camera]</td>\n",
              "      <td>[they, are, smiling, at, their, parents]</td>\n",
              "      <td>neutral</td>\n",
              "      <td>[250, 9767, 6, 13518, 30, 2421]</td>\n",
              "      <td>[73, 35, 9767, 30, 48, 859]</td>\n",
              "    </tr>\n",
              "    <tr>\n",
              "      <th>4</th>\n",
              "      <td>[children, smiling, and, waving, at, camera]</td>\n",
              "      <td>[there, are, children, present]</td>\n",
              "      <td>entailment</td>\n",
              "      <td>[250, 9767, 6, 13518, 30, 2421]</td>\n",
              "      <td>[83, 35, 250, 371]</td>\n",
              "    </tr>\n",
              "  </tbody>\n",
              "</table>\n",
              "</div>"
            ],
            "text/plain": [
              "                                           sentence1  ...                            sentence2_idz\n",
              "0  [a, person, on, a, horse, jumps, over, a, brok...  ...  [10, 364, 16, 590, 45, 2924, 17, 10, 1]\n",
              "1  [a, person, on, a, horse, jumps, over, a, brok...  ...    [10, 364, 16, 30, 10, 1, 6859, 51, 1]\n",
              "2  [a, person, on, a, horse, jumps, over, a, brok...  ...              [10, 364, 16, 1, 18, 10, 1]\n",
              "3       [children, smiling, and, waving, at, camera]  ...              [73, 35, 9767, 30, 48, 859]\n",
              "4       [children, smiling, and, waving, at, camera]  ...                       [83, 35, 250, 371]\n",
              "\n",
              "[5 rows x 5 columns]"
            ]
          },
          "metadata": {
            "tags": []
          },
          "execution_count": 24
        }
      ]
    },
    {
      "cell_type": "code",
      "metadata": {
        "id": "0cWkpkNS7Pfl",
        "colab_type": "code",
        "colab": {}
      },
      "source": [
        "def encode_target(train_train):\n",
        "    train_train['label'][train_train['label']=='neutral']=0\n",
        "    train_train['label'][train_train['label']=='entailment']=1\n",
        "    train_train['label'][train_train['label']=='contradiction']=2\n",
        "    return train_train"
      ],
      "execution_count": 0,
      "outputs": []
    },
    {
      "cell_type": "code",
      "metadata": {
        "id": "NHGXXu3Z75Ip",
        "colab_type": "code",
        "outputId": "03b41aa3-b8a6-45d3-ab2e-6b943cffad34",
        "colab": {
          "base_uri": "https://localhost:8080/",
          "height": 293
        }
      },
      "source": [
        "\n",
        "\n",
        "train_train = encode_target(train_train)\n",
        "val_val = encode_target(val_val)\n",
        "# train_train.head()\n"
      ],
      "execution_count": 26,
      "outputs": [
        {
          "output_type": "execute_result",
          "data": {
            "text/html": [
              "<div>\n",
              "<style scoped>\n",
              "    .dataframe tbody tr th:only-of-type {\n",
              "        vertical-align: middle;\n",
              "    }\n",
              "\n",
              "    .dataframe tbody tr th {\n",
              "        vertical-align: top;\n",
              "    }\n",
              "\n",
              "    .dataframe thead th {\n",
              "        text-align: right;\n",
              "    }\n",
              "</style>\n",
              "<table border=\"1\" class=\"dataframe\">\n",
              "  <thead>\n",
              "    <tr style=\"text-align: right;\">\n",
              "      <th></th>\n",
              "      <th>sentence1</th>\n",
              "      <th>sentence2</th>\n",
              "      <th>label</th>\n",
              "      <th>sentence1_idz</th>\n",
              "      <th>sentence2_idz</th>\n",
              "    </tr>\n",
              "  </thead>\n",
              "  <tbody>\n",
              "    <tr>\n",
              "      <th>0</th>\n",
              "      <td>[a, person, on, a, horse, jumps, over, a, brok...</td>\n",
              "      <td>[a, person, is, training, his, horse, for, a, ...</td>\n",
              "      <td>0</td>\n",
              "      <td>[10, 364, 18, 10, 2924, 13037, 95, 10, 2471, 2...</td>\n",
              "      <td>[10, 364, 16, 590, 45, 2924, 17, 10, 1]</td>\n",
              "    </tr>\n",
              "    <tr>\n",
              "      <th>1</th>\n",
              "      <td>[a, person, on, a, horse, jumps, over, a, brok...</td>\n",
              "      <td>[a, person, is, at, a, diner,, ordering, an, o...</td>\n",
              "      <td>2</td>\n",
              "      <td>[10, 364, 18, 10, 2924, 13037, 95, 10, 2471, 2...</td>\n",
              "      <td>[10, 364, 16, 30, 10, 1, 6859, 51, 1]</td>\n",
              "    </tr>\n",
              "    <tr>\n",
              "      <th>2</th>\n",
              "      <td>[a, person, on, a, horse, jumps, over, a, brok...</td>\n",
              "      <td>[a, person, is, outdoors,, on, a, horse.]</td>\n",
              "      <td>1</td>\n",
              "      <td>[10, 364, 18, 10, 2924, 13037, 95, 10, 2471, 2...</td>\n",
              "      <td>[10, 364, 16, 1, 18, 10, 1]</td>\n",
              "    </tr>\n",
              "    <tr>\n",
              "      <th>3</th>\n",
              "      <td>[children, smiling, and, waving, at, camera]</td>\n",
              "      <td>[they, are, smiling, at, their, parents]</td>\n",
              "      <td>0</td>\n",
              "      <td>[250, 9767, 6, 13518, 30, 2421]</td>\n",
              "      <td>[73, 35, 9767, 30, 48, 859]</td>\n",
              "    </tr>\n",
              "    <tr>\n",
              "      <th>4</th>\n",
              "      <td>[children, smiling, and, waving, at, camera]</td>\n",
              "      <td>[there, are, children, present]</td>\n",
              "      <td>1</td>\n",
              "      <td>[250, 9767, 6, 13518, 30, 2421]</td>\n",
              "      <td>[83, 35, 250, 371]</td>\n",
              "    </tr>\n",
              "  </tbody>\n",
              "</table>\n",
              "</div>"
            ],
            "text/plain": [
              "                                           sentence1  ...                            sentence2_idz\n",
              "0  [a, person, on, a, horse, jumps, over, a, brok...  ...  [10, 364, 16, 590, 45, 2924, 17, 10, 1]\n",
              "1  [a, person, on, a, horse, jumps, over, a, brok...  ...    [10, 364, 16, 30, 10, 1, 6859, 51, 1]\n",
              "2  [a, person, on, a, horse, jumps, over, a, brok...  ...              [10, 364, 16, 1, 18, 10, 1]\n",
              "3       [children, smiling, and, waving, at, camera]  ...              [73, 35, 9767, 30, 48, 859]\n",
              "4       [children, smiling, and, waving, at, camera]  ...                       [83, 35, 250, 371]\n",
              "\n",
              "[5 rows x 5 columns]"
            ]
          },
          "metadata": {
            "tags": []
          },
          "execution_count": 26
        }
      ]
    },
    {
      "cell_type": "code",
      "metadata": {
        "id": "lkeIuCgZPQXQ",
        "colab_type": "code",
        "outputId": "9b98b02d-659e-44c1-e945-125684238051",
        "colab": {
          "base_uri": "https://localhost:8080/",
          "height": 34
        }
      },
      "source": [
        "print(train_train['label'][0])"
      ],
      "execution_count": 27,
      "outputs": [
        {
          "output_type": "stream",
          "text": [
            "0\n"
          ],
          "name": "stdout"
        }
      ]
    },
    {
      "cell_type": "code",
      "metadata": {
        "id": "pAS80ozZN6Jp",
        "colab_type": "code",
        "colab": {}
      },
      "source": [
        "for i in range(len(train_train)):\n",
        "  if(train_train['label'][i]!=0 and train_train['label'][i]!=1 and train_train['label'][i]!=2):\n",
        "    train_train['label'][i]=1\n",
        "  "
      ],
      "execution_count": 0,
      "outputs": []
    },
    {
      "cell_type": "code",
      "metadata": {
        "id": "g_3NW4sMXTpC",
        "colab_type": "code",
        "colab": {}
      },
      "source": [
        "for i in range(len(val_val)):\n",
        "  if(val_val['label'][i]!=0 and val_val['label'][i]!=1 and val_val['label'][i]!=2):\n",
        "    val_val['label'][i]=1"
      ],
      "execution_count": 0,
      "outputs": []
    },
    {
      "cell_type": "code",
      "metadata": {
        "id": "KFbchXMF8MQ7",
        "colab_type": "code",
        "colab": {}
      },
      "source": [
        "class SnliDataset(Dataset):\n",
        "    def __init__(self, df):\n",
        "        self.df = df\n",
        "        \n",
        "    def __len__(self):\n",
        "        return len(self.df)\n",
        "\n",
        "    def __getitem__(self, idx):\n",
        "        s1 = self.df.iloc[idx]['sentence1_idz']\n",
        "        s2 = self.df.iloc[idx]['sentence2_idz']\n",
        "        tar = self.df.iloc[idx]['label']\n",
        "        len1 = len(s1)\n",
        "        len2 = len(s2)\n",
        "        return [s1,len1,s2,len2,tar]"
      ],
      "execution_count": 0,
      "outputs": []
    },
    {
      "cell_type": "code",
      "metadata": {
        "id": "G0d6YfSH8KAV",
        "colab_type": "code",
        "colab": {}
      },
      "source": [
        "def max_len(x):\n",
        "    return len(x)"
      ],
      "execution_count": 0,
      "outputs": []
    },
    {
      "cell_type": "code",
      "metadata": {
        "id": "7jSo-1RM9sAX",
        "colab_type": "code",
        "colab": {}
      },
      "source": [
        "l1 = train_train['sentence1_idz'].apply(max_len)\n",
        "l2 = train_train['sentence2_idz'].apply(max_len)\n",
        "# MAX_LEN = max(l1)\n",
        "MAX_LEN = 25"
      ],
      "execution_count": 0,
      "outputs": []
    },
    {
      "cell_type": "code",
      "metadata": {
        "id": "Vh16IvZ0LRVE",
        "colab_type": "code",
        "colab": {}
      },
      "source": [
        ""
      ],
      "execution_count": 0,
      "outputs": []
    },
    {
      "cell_type": "code",
      "metadata": {
        "id": "jPgefSAm9uD0",
        "colab_type": "code",
        "colab": {}
      },
      "source": [
        "\n",
        "def vocab_collate_func(batch):\n",
        "    data_list_s1 = []\n",
        "    data_list_s2 = []\n",
        "    label_list = []\n",
        "    length_list_s1 = []\n",
        "    length_list_s2 = []\n",
        "\n",
        "    for datum in batch:\n",
        "        label_list.append(datum[4])\n",
        "        length_list_s1.append(datum[1])\n",
        "        length_list_s2.append(datum[3])\n",
        "    # padding\n",
        "    for datum in batch:\n",
        "        if datum[1]>MAX_LEN:\n",
        "            padded_vec_s1 = np.array(datum[0])[:MAX_LEN]\n",
        "        else:\n",
        "            padded_vec_s1 = np.pad(np.array(datum[0]),\n",
        "                                pad_width=((0,MAX_LEN - datum[1])),\n",
        "                                mode=\"constant\", constant_values=0)\n",
        "        if datum[3]>MAX_LEN:\n",
        "            padded_vec_s2 = np.array(datum[2])[:MAX_LEN]\n",
        "        else:\n",
        "            padded_vec_s2 = np.pad(np.array(datum[2]),\n",
        "                                pad_width=((0,MAX_LEN - datum[3])),\n",
        "                                mode=\"constant\", constant_values=0)\n",
        "        data_list_s1.append(padded_vec_s1)\n",
        "        data_list_s2.append(padded_vec_s2)\n",
        "        \n",
        "    # print(torch.from_numpy(np.array(data_list_s1)))\n",
        "    # print(torch.LongTensor(length_list_s1))\n",
        "    # print(torch.from_numpy(np.array(data_list_s2)))\n",
        "    # print(torch.LongTensor(length_list_s2))\n",
        "    # print(torch.LongTensor(label_list))\n",
        "       \n",
        "    return [torch.from_numpy(np.array(data_list_s1)), torch.LongTensor(length_list_s1), torch.from_numpy(np.array(data_list_s2)), torch.LongTensor(length_list_s2), torch.LongTensor(label_list)]"
      ],
      "execution_count": 0,
      "outputs": []
    },
    {
      "cell_type": "code",
      "metadata": {
        "id": "xvJwTuUb9xBL",
        "colab_type": "code",
        "colab": {}
      },
      "source": [
        "train_dataset = SnliDataset(train_train)\n",
        "train_loader = torch.utils.data.DataLoader(dataset=train_dataset,\n",
        "                                           batch_size=BATCH_SIZE,\n",
        "                                           collate_fn=vocab_collate_func,\n",
        "                                           shuffle=True)\n",
        "\n",
        "val_dataset = SnliDataset(val_val)\n",
        "val_loader = torch.utils.data.DataLoader(dataset=val_dataset,\n",
        "                                           batch_size=BATCH_SIZE,\n",
        "                                           collate_fn=vocab_collate_func,\n",
        "                                           shuffle=True)"
      ],
      "execution_count": 0,
      "outputs": []
    },
    {
      "cell_type": "code",
      "metadata": {
        "id": "BgzSWK8D95Wj",
        "colab_type": "code",
        "colab": {}
      },
      "source": [
        "class RNN(nn.Module):\n",
        "    def __init__(self, emb_size, hidden_size, num_layers, num_classes, vocab_size):\n",
        "        super(RNN, self).__init__()\n",
        "\n",
        "        self.num_layers, self.hidden_size = num_layers, hidden_size\n",
        "        self.embedding = nn.Embedding(vocab_size, emb_size, padding_idx=PAD_IDX)\n",
        "        self.embedding.from_pretrained(torch.from_numpy(loaded_embeddings).cuda(), freeze = True)\n",
        "\n",
        "\n",
        "        \n",
        "        self.rnn = nn.GRU(emb_size, hidden_size, num_layers, batch_first = True)\n",
        "        self.linear1 = nn.Linear(2*hidden_size, 500)\n",
        "        self.linear2 = nn.Linear(500,num_classes)\n",
        "\n",
        "    def init_hidden(self, batch_size):\n",
        "        hidden = torch.randn(self.num_layers, batch_size, self.hidden_size)\n",
        "        return hidden.cuda()\n",
        "\n",
        "    def forward(self, data_s1, length1, data_s2, length2):  \n",
        "        batch_size = data_s1.size(0)\n",
        "        self.hidden1 = self.init_hidden(batch_size)\n",
        "        self.hidden2 = self.init_hidden(batch_size)\n",
        "\n",
        "        embed1 = self.embedding(data_s1)\n",
        "        embed2 = self.embedding(data_s2)\n",
        "        \n",
        "#         print(embed1.size())\n",
        "        rnn_out1_, hidden1 = self.rnn(embed1, self.hidden1)\n",
        "        rnn_out2_, hidden2 = self.rnn(embed2, self.hidden2)\n",
        "#         print(self.hidden1.size())\n",
        "\n",
        "        rnn_out1 = torch.sum(hidden1, dim=0)\n",
        "        rnn_out2 = torch.sum(hidden2, dim=0)\n",
        "#         print(rnn_out1.size())\n",
        "        combined_out = torch.cat([rnn_out1, rnn_out2], dim=1)\n",
        "#         print(combined_out.size())\n",
        "        logits = F.relu(self.linear1(combined_out))\n",
        "        res = self.linear2(logits)\n",
        "        \n",
        "        return res"
      ],
      "execution_count": 0,
      "outputs": []
    },
    {
      "cell_type": "code",
      "metadata": {
        "id": "5lR1qIni99Om",
        "colab_type": "code",
        "colab": {}
      },
      "source": [
        "dataloaders = [train_loader, val_loader]"
      ],
      "execution_count": 0,
      "outputs": []
    },
    {
      "cell_type": "code",
      "metadata": {
        "id": "rplYU_4q-BJQ",
        "colab_type": "code",
        "colab": {}
      },
      "source": [
        "def training(model,criterion, optimizer, name, num_epochs):\n",
        "    best_loss = np.inf\n",
        "    best_acc = 0\n",
        "    loss_hist = {'train':[],'validate':[]}\n",
        "    acc_hist = {'train':[],'validate':[]}\n",
        "    for i in range(num_epochs):\n",
        "        for enu,phase in enumerate(['train', 'validate']):\n",
        "            running_loss = 0\n",
        "            running_total = 0\n",
        "            correct = 0\n",
        "            total = 0\n",
        "            if phase == 'train':\n",
        "                model.train(True)\n",
        "            else:\n",
        "                model.train(False)\n",
        "            for (data1, length1, data2, length2, labels) in dataloaders[enu]:\n",
        "#                 data_batch1, length_batch1, data_batch2, len_batch2, label_batch = data1, length1, data2, length2, labels\n",
        "                data_batch1, len_batch1, data_batch2, len_batch2, label_batch = data1.cuda(), length1.cuda(), data2.cuda(), length2.cuda(), labels.cuda()\n",
        "\n",
        "\n",
        "                optimizer.zero_grad()\n",
        "                outputs = model(data_batch1, len_batch1, data_batch2, len_batch2)\n",
        "                loss = criterion(outputs, label_batch)\n",
        "                if phase=='train':\n",
        "                    loss.backward()\n",
        "                    optimizer.step()\n",
        "                N = labels.size(0)\n",
        "                # print(type(loss))\n",
        "                # print(type(N))\n",
        "                outputs = F.softmax(outputs, dim=1)\n",
        "                predicted = outputs.max(1, keepdim=True)[1]\n",
        "#                 print(type(predicted))\n",
        "                total += labels.size(0)\n",
        "                correct += predicted.eq(label_batch.view_as(predicted)).sum().item()\n",
        "                running_loss += loss.item() * N  # changed\n",
        "                running_total += N\n",
        "            epoch_loss = running_loss/running_total\n",
        "            loss_hist[phase].append(epoch_loss)\n",
        "            accuracy = 100 * correct / total\n",
        "            acc_hist[phase].append(accuracy)\n",
        "            print('Epoch: {}, Phase: {}, epoch loss: {:.4f}, accuracy: {:.4f}'\\\n",
        "                      .format(i,phase,epoch_loss, accuracy))\n",
        "        if phase == 'validate' and best_acc < accuracy:\n",
        "            best_loss = epoch_loss\n",
        "            best_acc = accuracy\n",
        "            torch.save(model,name)\n",
        "    print('Best val dice loss: {:4f}, Best Accuracy: {:4f}'.format(best_loss,best_acc))\n",
        "    return model, loss_hist, acc_hist"
      ],
      "execution_count": 0,
      "outputs": []
    },
    {
      "cell_type": "code",
      "metadata": {
        "id": "SycDTy_l9V86",
        "colab_type": "code",
        "colab": {}
      },
      "source": [
        "class RNN_dp(nn.Module):\n",
        "    def __init__(self, emb_size, hidden_size, num_layers, num_classes, vocab_size,p_p):\n",
        "        super(RNN_dp, self).__init__()\n",
        "\n",
        "        self.num_layers, self.hidden_size = num_layers, hidden_size\n",
        "        self.embedding = nn.Embedding(vocab_size, emb_size, padding_idx=PAD_IDX)\n",
        "#         self.embedding.weight.data.copy_(torch.from_numpy(loaded_embeddings))\n",
        "#         self.embedding.weight.requires_grad = False\n",
        "        self.embedding.from_pretrained(torch.from_numpy(loaded_embeddings).cuda(), freeze = True)\n",
        "        self.drop = nn.Dropout(p=p_p)\n",
        "\n",
        "\n",
        "        \n",
        "        self.rnn = nn.GRU(emb_size, hidden_size, num_layers, batch_first = True)\n",
        "        self.linear1 = nn.Linear(2*hidden_size, 500)\n",
        "        self.linear2 = nn.Linear(500,num_classes)\n",
        "\n",
        "    def init_hidden(self, batch_size):\n",
        "        hidden = torch.randn(self.num_layers, batch_size, self.hidden_size)\n",
        "        return hidden.cuda()\n",
        "\n",
        "    def forward(self, data_s1, length1, data_s2, length2):  \n",
        "        batch_size = data_s1.size(0)\n",
        "        self.hidden1 = self.init_hidden(batch_size)\n",
        "        self.hidden2 = self.init_hidden(batch_size)\n",
        "\n",
        "        embed1 = self.embedding(data_s1)\n",
        "        embed2 = self.embedding(data_s2)\n",
        "        \n",
        "#         print(embed1.size())\n",
        "        rnn_out1_, hidden1 = self.rnn(embed1, self.hidden1)\n",
        "        rnn_out2_, hidden2 = self.rnn(embed2, self.hidden2)\n",
        "#         print(self.hidden1.size())\n",
        "\n",
        "        rnn_out1 = torch.sum(hidden1, dim=0)\n",
        "        rnn_out2 = torch.sum(hidden2, dim=0)\n",
        "#         print(rnn_out1.size())\n",
        "        combined_out = torch.cat([rnn_out1, rnn_out2], dim=1)\n",
        "#         print(combined_out.size())\n",
        "        logits = F.relu(self.linear1(combined_out))\n",
        "        res = self.linear2(self.drop(logits))\n",
        "        \n",
        "        return res\n"
      ],
      "execution_count": 0,
      "outputs": []
    },
    {
      "cell_type": "code",
      "metadata": {
        "id": "LR6IMgsu-EPU",
        "colab_type": "code",
        "outputId": "64ae4467-bed7-44b3-f931-ce738df68a0b",
        "colab": {
          "base_uri": "https://localhost:8080/",
          "height": 436
        }
      },
      "source": [
        "\n",
        "model = RNN_dp(300,500,2,3,words_to_load+2,0.2).cuda()\n",
        "criterion = torch.nn.CrossEntropyLoss()  \n",
        "optimizer = torch.optim.Adam(model.parameters(), lr = 0.0005)\n",
        "\n",
        "m_save, loss_hists,acc_hist = training(model,criterion,optimizer,\"model_rnn16\",10)"
      ],
      "execution_count": 40,
      "outputs": [
        {
          "output_type": "stream",
          "text": [
            "Epoch: 0, Phase: train, epoch loss: 0.8673, accuracy: 59.6333\n",
            "Epoch: 0, Phase: validate, epoch loss: 0.7880, accuracy: 65.6600\n"
          ],
          "name": "stdout"
        },
        {
          "output_type": "stream",
          "text": [
            "/usr/local/lib/python3.6/dist-packages/torch/serialization.py:402: UserWarning: Couldn't retrieve source code for container of type RNN_dp. It won't be checked for correctness upon loading.\n",
            "  \"type \" + obj.__name__ + \". It won't be checked \"\n"
          ],
          "name": "stderr"
        },
        {
          "output_type": "stream",
          "text": [
            "Epoch: 1, Phase: train, epoch loss: 0.7652, accuracy: 66.2953\n",
            "Epoch: 1, Phase: validate, epoch loss: 0.7623, accuracy: 66.9000\n",
            "Epoch: 2, Phase: train, epoch loss: 0.7305, accuracy: 68.2599\n",
            "Epoch: 2, Phase: validate, epoch loss: 0.7451, accuracy: 67.6500\n",
            "Epoch: 3, Phase: train, epoch loss: 0.7077, accuracy: 69.4054\n",
            "Epoch: 3, Phase: validate, epoch loss: 0.7533, accuracy: 67.9100\n",
            "Epoch: 4, Phase: train, epoch loss: 0.6909, accuracy: 70.2515\n",
            "Epoch: 4, Phase: validate, epoch loss: 0.7478, accuracy: 67.8800\n",
            "Epoch: 5, Phase: train, epoch loss: 0.6774, accuracy: 70.8915\n",
            "Epoch: 5, Phase: validate, epoch loss: 0.7522, accuracy: 68.0200\n",
            "Epoch: 6, Phase: train, epoch loss: 0.6682, accuracy: 71.3994\n",
            "Epoch: 6, Phase: validate, epoch loss: 0.7531, accuracy: 68.0500\n",
            "Epoch: 7, Phase: train, epoch loss: 0.6609, accuracy: 71.7785\n",
            "Epoch: 7, Phase: validate, epoch loss: 0.7628, accuracy: 67.7800\n",
            "Epoch: 8, Phase: train, epoch loss: 0.6557, accuracy: 72.0068\n",
            "Epoch: 8, Phase: validate, epoch loss: 0.7531, accuracy: 68.4200\n",
            "Epoch: 9, Phase: train, epoch loss: 0.6530, accuracy: 72.1492\n",
            "Epoch: 9, Phase: validate, epoch loss: 0.7563, accuracy: 68.6600\n",
            "Best val dice loss: 0.756305, Best Accuracy: 68.660000\n"
          ],
          "name": "stdout"
        }
      ]
    },
    {
      "cell_type": "code",
      "metadata": {
        "id": "iT-dLIQe-IZ6",
        "colab_type": "code",
        "outputId": "ef49dfda-c532-4420-8264-74a5272be068",
        "colab": {
          "base_uri": "https://localhost:8080/",
          "height": 527
        }
      },
      "source": [
        "plt.plot(loss_hists['train'],label=\"train loss\")\n",
        "plt.xlabel(\"epoch\")\n",
        "plt.plot(loss_hists['validate'],label=\"val loss\")\n",
        "plt.legend()\n",
        "plt.show()\n",
        "\n",
        "plt.plot(acc_hist['train'],label=\"train acc\")\n",
        "plt.plot(acc_hist['validate'],label=\"val acc\")\n",
        "plt.legend()\n",
        "plt.show()"
      ],
      "execution_count": 41,
      "outputs": [
        {
          "output_type": "display_data",
          "data": {
            "image/png": "[encoded data removed]",
            "text/plain": [
              "<Figure size 432x288 with 1 Axes>"
            ]
          },
          "metadata": {
            "tags": [],
            "needs_background": "light"
          }
        },
        {
          "output_type": "display_data",
          "data": {
            "image/png": "[encoded data removed]",
            "text/plain": [
              "<Figure size 432x288 with 1 Axes>"
            ]
          },
          "metadata": {
            "tags": [],
            "needs_background": "light"
          }
        }
      ]
    },
    {
      "cell_type": "code",
      "metadata": {
        "id": "ex7L3JcUhkJI",
        "colab_type": "code",
        "outputId": "c952d49a-29c2-4ca6-e1db-441878efd40d",
        "colab": {
          "base_uri": "https://localhost:8080/",
          "height": 89
        }
      },
      "source": [
        "import pickle\n",
        "\n",
        "f='modelrnn1.sav'\n",
        "pickle.dump(model, open(f, 'wb'))\n",
        "\n"
      ],
      "execution_count": 43,
      "outputs": [
        {
          "output_type": "stream",
          "text": [
            "/usr/local/lib/python3.6/dist-packages/torch/storage.py:34: FutureWarning: pickle support for Storage will be removed in 1.5. Use `torch.save` instead\n",
            "  warnings.warn(\"pickle support for Storage will be removed in 1.5. Use `torch.save` instead\", FutureWarning)\n"
          ],
          "name": "stderr"
        },
        {
          "output_type": "stream",
          "text": [
            "Drive already mounted at /content/gdrive; to attempt to forcibly remount, call drive.mount(\"/content/gdrive\", force_remount=True).\n"
          ],
          "name": "stdout"
        }
      ]
    },
    {
      "cell_type": "code",
      "metadata": {
        "id": "dWaIx17pEjg5",
        "colab_type": "code",
        "colab": {}
      },
      "source": [
        "from google.colab import drive\n",
        "drive.mount('/content/gdrive')\n"
      ],
      "execution_count": 0,
      "outputs": []
    },
    {
      "cell_type": "code",
      "metadata": {
        "id": "XVNwJ7v3jiHH",
        "colab_type": "code",
        "outputId": "fbaba79e-ca5a-4283-86db-caa5f5e62c5a",
        "colab": {
          "base_uri": "https://localhost:8080/",
          "height": 72
        }
      },
      "source": [
        "filename = '/content/gdrive/My Drive/finalized_modelrnn.sav'\n",
        "pickle.dump(model, open(filename, 'wb'))"
      ],
      "execution_count": 46,
      "outputs": [
        {
          "output_type": "stream",
          "text": [
            "/usr/local/lib/python3.6/dist-packages/torch/storage.py:34: FutureWarning: pickle support for Storage will be removed in 1.5. Use `torch.save` instead\n",
            "  warnings.warn(\"pickle support for Storage will be removed in 1.5. Use `torch.save` instead\", FutureWarning)\n"
          ],
          "name": "stderr"
        }
      ]
    },
    {
      "cell_type": "code",
      "metadata": {
        "id": "UJZLHjX9jqPy",
        "colab_type": "code",
        "colab": {}
      },
      "source": [
        "\n",
        "path = F\"/content/gdrive/My Drive/final_modelrnn.pt\" \n",
        "torch.save(model.state_dict(), path)"
      ],
      "execution_count": 0,
      "outputs": []
    },
    {
      "cell_type": "code",
      "metadata": {
        "id": "lJ7z3EHHJq-v",
        "colab_type": "code",
        "colab": {}
      },
      "source": [
        "# path = F\"/content/gdrive/My Drive/{model_save_name}\"\n",
        "# model.load_state_dict(torch.load(path))"
      ],
      "execution_count": 0,
      "outputs": []
    }
  ]
}